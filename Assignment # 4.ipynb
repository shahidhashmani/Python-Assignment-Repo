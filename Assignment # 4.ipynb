{
 "cells": [
  {
   "cell_type": "code",
   "execution_count": 1,
   "metadata": {},
   "outputs": [
    {
     "name": "stdout",
     "output_type": "stream",
     "text": [
      "Javed\n",
      "Choudhry\n",
      "50\n",
      "Islamabad\n"
     ]
    }
   ],
   "source": [
    "person = {\n",
    "    \"first_name\": \"Javed\",\n",
    "    \"last_name\": \"Choudhry\",\n",
    "    \"age\": 50,\n",
    "    \"city\": \"Islamabad\",\n",
    "    }\n",
    "print(person[\"first_name\"])\n",
    "print(person[\"last_name\"])\n",
    "print(person[\"age\"])\n",
    "print(person['city'])"
   ]
  },
  {
   "cell_type": "code",
   "execution_count": 4,
   "metadata": {},
   "outputs": [
    {
     "name": "stdout",
     "output_type": "stream",
     "text": [
      "{'first_name': 'Javed', 'last_name': 'Choudhry', 'age': 50, 'city': 'Islamabad', 'qualification': 'Master'}\n"
     ]
    }
   ],
   "source": [
    "person = {\n",
    "    \n",
    "    \"first_name\": \"Javed\",\n",
    "    \"last_name\": \"Choudhry\",\n",
    "    \"age\": 50,\n",
    "    \"city\": \"Islamabad\",\n",
    "}\n",
    "   \n",
    "person[\"qualification\"] = \"Master\"\n",
    "print(person)"
   ]
  },
  {
   "cell_type": "code",
   "execution_count": 5,
   "metadata": {},
   "outputs": [
    {
     "name": "stdout",
     "output_type": "stream",
     "text": [
      "{'first_name': 'Javed', 'last_name': 'Choudhry', 'age': 50, 'city': 'Islamabad', 'qualification': 'Phd'}\n"
     ]
    }
   ],
   "source": [
    "person = {\n",
    "    \n",
    "    \"first_name\": \"Javed\",\n",
    "    \"last_name\": \"Choudhry\",\n",
    "    \"age\": 50,\n",
    "    \"city\": \"Islamabad\",\n",
    "    \"qualification\": \"MASTER\"\n",
    "}\n",
    "person[\"qualification\"] = \"Phd\"  \n",
    "print(person)"
   ]
  },
  {
   "cell_type": "code",
   "execution_count": 6,
   "metadata": {},
   "outputs": [
    {
     "name": "stdout",
     "output_type": "stream",
     "text": [
      "{'first_name': 'Javed', 'last_name': 'Choudhry', 'age': 50, 'city': 'Islamabad'}\n"
     ]
    }
   ],
   "source": [
    "del person[\"qualification\"]  \n",
    "print(person)"
   ]
  },
  {
   "cell_type": "code",
   "execution_count": 7,
   "metadata": {},
   "outputs": [
    {
     "name": "stdout",
     "output_type": "stream",
     "text": [
      "[{'islamabad': 1, 'country': 'Pakistan', 'Population': '1.1 million', 'fact': 'Capital'}, {'new_york': 2, 'country': 'United States', 'Population': '8.5 million', 'fact': 'largest city in the UInited States'}, {'makkah': 3, 'country': 'Saudi Arabia', 'Population': '1.67 million', 'fact': 'holiest city of muslim'}]\n"
     ]
    }
   ],
   "source": [
    "cities = [\n",
    "    {\n",
    "        \"islamabad\": 1,\n",
    "        \"country\": \"Pakistan\",\n",
    "        \"Population\": \"1.1 million\",\n",
    "        \"fact\": \"Capital\"\n",
    "    },\n",
    "    {\n",
    "        \"new_york\": 2,\n",
    "        \"country\": \"United States\",\n",
    "        \"Population\": \"8.5 million\",\n",
    "        \"fact\": \"largest city in the UInited States\"\n",
    "    },\n",
    "\n",
    "     {\n",
    "        \"makkah\": 3,\n",
    "        \"country\": \"Saudi Arabia\",\n",
    "        \"Population\": \"1.67 million\",\n",
    "        \"fact\": \"holiest city of muslim\"\n",
    "     }\n",
    "]\n",
    "print(cities)"
   ]
  },
  {
   "cell_type": "code",
   "execution_count": 8,
   "metadata": {},
   "outputs": [
    {
     "name": "stdout",
     "output_type": "stream",
     "text": [
      "How old are you?\n",
      "Enter 'quit' when you are finished. 2\n",
      "  You get in free!\n",
      "How old are you?\n",
      "Enter 'quit' when you are finished. 3\n",
      "  Your ticket is $10.\n",
      "How old are you?\n",
      "Enter 'quit' when you are finished. 4\n",
      "  Your ticket is $10.\n",
      "How old are you?\n",
      "Enter 'quit' when you are finished. quit\n"
     ]
    }
   ],
   "source": [
    "prompt = \"How old are you?\"\n",
    "prompt += \"\\nEnter 'quit' when you are finished. \"\n",
    "\n",
    "while True:\n",
    "    age = input(prompt)\n",
    "    if age == 'quit':\n",
    "        break\n",
    "    age = int(age)\n",
    "\n",
    "    if age < 3:\n",
    "        print(\"  You get in free!\")\n",
    "    elif age < 13:\n",
    "        print(\"  Your ticket is $10.\")\n",
    "    else:\n",
    "        print(\"  Your ticket is $15.\")"
   ]
  },
  {
   "cell_type": "code",
   "execution_count": 9,
   "metadata": {},
   "outputs": [
    {
     "name": "stdout",
     "output_type": "stream",
     "text": [
      "Khutbat E Bahawal Pur By Dr. Muhammad Hamidullah is one of my favorite books.\n"
     ]
    }
   ],
   "source": [
    "def favorite_book(title):\n",
    "       print(title + \" is one of my favorite books.\")\n",
    "\n",
    "favorite_book('Khutbat E Bahawal Pur By Dr. Muhammad Hamidullah')"
   ]
  },
  {
   "cell_type": "code",
   "execution_count": 14,
   "metadata": {},
   "outputs": [
    {
     "name": "stdout",
     "output_type": "stream",
     "text": [
      "random number between 1 - 30.\n",
      "user guess the number!\n",
      "\n",
      "\n",
      "Enter a number: 31\n",
      "Number must be lower than!\n",
      "\n",
      "\n",
      "Enter a number: -1\n",
      "Number must be greater than!\n",
      "\n",
      "\n",
      "Enter a number: 5\n",
      "The user takes a guess... 8\n",
      "The user takes a guess... 1\n",
      "The user takes a guess... 6\n",
      "The user takes a guess... 5\n",
      "The user guessed 5 and it was correct!\n"
     ]
    }
   ],
   "source": [
    "from random import randint\n",
    "\n",
    "print (\"random number between 1 - 30.\"\n",
    "       \"\\nuser guess the number!\")\n",
    "\n",
    "number = 0\n",
    "\n",
    "while number < 1 or number >30:\n",
    "    number = int(input(\"\\n\\nEnter a number: \"))\n",
    "    if number > 30:\n",
    "        print (\"Number must be lower than!\")\n",
    "    if number < 1:\n",
    "        print (\"Number must be greater than!\")\n",
    "\n",
    "guess = randint(1, 30)\n",
    "\n",
    "print (\"The user takes a guess...\", guess)\n",
    "\n",
    "while guess != number:\n",
    "    if guess > number:\n",
    "        guess -= 1\n",
    "        guess = randint(1, guess)\n",
    "    else:\n",
    "        guess += 1\n",
    "        guess = randint(guess, 30)\n",
    "    print (\"The user takes a guess...\", guess)\n",
    "\n",
    "print (\"The user guessed\", guess, \"and it was correct!\")"
   ]
  },
  {
   "cell_type": "code",
   "execution_count": null,
   "metadata": {},
   "outputs": [],
   "source": []
  },
  {
   "cell_type": "code",
   "execution_count": null,
   "metadata": {},
   "outputs": [],
   "source": []
  }
 ],
 "metadata": {
  "kernelspec": {
   "display_name": "Python 3",
   "language": "python",
   "name": "python3"
  },
  "language_info": {
   "codemirror_mode": {
    "name": "ipython",
    "version": 3
   },
   "file_extension": ".py",
   "mimetype": "text/x-python",
   "name": "python",
   "nbconvert_exporter": "python",
   "pygments_lexer": "ipython3",
   "version": "3.7.4"
  }
 },
 "nbformat": 4,
 "nbformat_minor": 2
}
