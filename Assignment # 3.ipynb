{
 "cells": [
  {
   "cell_type": "code",
   "execution_count": 2,
   "metadata": {},
   "outputs": [
    {
     "name": "stdout",
     "output_type": "stream",
     "text": [
      "enter first vale 4\n",
      "enter second value 4\n",
      "enter operator /\n",
      "1.0 answer\n"
     ]
    }
   ],
   "source": [
    "val1 = input('enter first vale ')\n",
    "val2 = input('enter second value ')\n",
    "operator = input('enter operator ')\n",
    "val1 = int(val1)\n",
    "val2 = int(val2)\n",
    "\n",
    "if operator == '+':\n",
    "    val = val1 + val2\n",
    "    print(val, 'answer')\n",
    "elif operator == '-':\n",
    "    val = val1 - val2\n",
    "    print(val, 'answer')\n",
    "elif operator == '*':\n",
    "    val = val1 * val2\n",
    "    print(val, 'answer')\n",
    "elif operator == '/':\n",
    "    val = val1 / val2\n",
    "    print(val, 'answer')\n",
    "else:\n",
    "    print('enter correct operator')"
   ]
  },
  {
   "cell_type": "code",
   "execution_count": 2,
   "metadata": {},
   "outputs": [
    {
     "name": "stdout",
     "output_type": "stream",
     "text": [
      "enter value 7\n",
      "there is the numeric value\n"
     ]
    }
   ],
   "source": [
    "name = ['noman', 'shahzad', 'faisal', 'feroz', 'hussain' ,'7 ']\n",
    "\n",
    "val = input('enter value ')\n",
    "\n",
    "for numeric_value in name:\n",
    "    if val == '7':\n",
    "        print('there is the numeric value')\n",
    "        break\n",
    "    else:\n",
    "        print('there is no numeric value ')\n",
    "        break"
   ]
  },
  {
   "cell_type": "code",
   "execution_count": 3,
   "metadata": {},
   "outputs": [
    {
     "name": "stdout",
     "output_type": "stream",
     "text": [
      "{'f_name': 'Shahid', 'l_name': 'Hashmani', 'add': 'DHA', 'language': 'English'}\n"
     ]
    }
   ],
   "source": [
    "customer = {\n",
    "    \"f_name\": \"Shahid\",\n",
    "    \"l_name\": \"Hashmani\",\n",
    "    \"add\": \"DHA\"\n",
    "}\n",
    "customer[\"language\"] = \"English\"\n",
    "print(customer)"
   ]
  },
  {
   "cell_type": "code",
   "execution_count": 4,
   "metadata": {},
   "outputs": [
    {
     "name": "stdout",
     "output_type": "stream",
     "text": [
      "2300\n"
     ]
    }
   ],
   "source": [
    "numeric_items = {'a':500,'b':1000,'c':800}\n",
    "print(sum(numeric_items.values()))"
   ]
  },
  {
   "cell_type": "code",
   "execution_count": 3,
   "metadata": {},
   "outputs": [
    {
     "name": "stdout",
     "output_type": "stream",
     "text": [
      "30\n",
      "40\n",
      "70\n"
     ]
    }
   ],
   "source": [
    "list_of_values = [20,30,40,50,60,30,70,80,40,90,70,100]\n",
    "list_of_values.sort()\n",
    "for duplicate_values in range (len (list_of_values) -1):\n",
    "    if list_of_values[duplicate_values] == list_of_values[duplicate_values+1]:\n",
    "        print (list_of_values[duplicate_values])"
   ]
  },
  {
   "cell_type": "code",
   "execution_count": 1,
   "metadata": {},
   "outputs": [
    {
     "name": "stdout",
     "output_type": "stream",
     "text": [
      "Key is already exist in a dictionary\n"
     ]
    }
   ],
   "source": [
    "grocery_list = {1: \"milk\", 2: \"oil\", 3: \"tea\", 4: \"cosmetics\", 5: \"tissue_paper\", 6: \"rice\"}\n",
    "def is_key_exist(x):\n",
    "  if x in grocery_list:\n",
    "      print('Key is already exist in a dictionary')\n",
    "  else:\n",
    "      print('Key is not exist in a dictionary')\n",
    "is_key_exist(3)"
   ]
  },
  {
   "cell_type": "code",
   "execution_count": null,
   "metadata": {},
   "outputs": [],
   "source": []
  }
 ],
 "metadata": {
  "kernelspec": {
   "display_name": "Python 3",
   "language": "python",
   "name": "python3"
  },
  "language_info": {
   "codemirror_mode": {
    "name": "ipython",
    "version": 3
   },
   "file_extension": ".py",
   "mimetype": "text/x-python",
   "name": "python",
   "nbconvert_exporter": "python",
   "pygments_lexer": "ipython3",
   "version": "3.7.4"
  }
 },
 "nbformat": 4,
 "nbformat_minor": 2
}
