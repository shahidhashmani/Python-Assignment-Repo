{
 "cells": [
  {
   "cell_type": "markdown",
   "metadata": {},
   "source": [
    "# Question No. 1\n",
    "\n",
    "## Introduction: -\n",
    "Object Oriented Programming is a paradigm in which real-world objects are each viewed as separate entities having their own state which is modified only by built in procedures, called method.\n",
    "\n",
    "To “model human interaction with real world phenomena” and their behavior as classes and methods.\n",
    "\n",
    "## Object Oriented Programming in Python: -\n",
    "Python is a multi-paradigm programming language. Meaning, it supports different programming approach. One of the popular approach to solve a programming problem is by creating objects. This is known as Object-Oriented Programming (OOP).\n",
    "\n",
    "An object has two characteristics: -\n",
    "\n",
    "    1•\tattributes\n",
    "    2•\tbehavior\n",
    "\n",
    "The concept of OOP in Python focuses on creating reusable code. This concept is also known as DRY (Don't Repeat Yourself).\n",
    "\n",
    "In Python, the concept of OOP follows some basic principles:\n",
    "\n",
    "### Inheritance: -\n",
    "A process of using details from a new class without modifying existing class.\n",
    "\n",
    "### Encapsulation: -\n",
    "Hiding the private details of a class from other objects.\n",
    "\n",
    "### Polymorphism: -\n",
    "A concept of using common operation in different ways for different data input.\n"
   ]
  },
  {
   "cell_type": "markdown",
   "metadata": {},
   "source": [
    "# Question No. 2\n",
    "\n",
    "## Benefits of OOP: -\n",
    "\n",
    "*\t***Modular Structure : -*** \n",
    "It provides a clear modular structure for programs which makes it good for defining abstract data types in which implementation details are hidden.\n",
    "\n",
    "\n",
    "*\t***Reused: -*** \n",
    "Objects can also be reused within an across applications. The reuse of software also lowers the cost of development. More effort is put into the object-oriented analysis and design, which lowers the overall cost of development.\n",
    "\n",
    "\n",
    "*\t***Lower cost of development: -*** \n",
    "The reuse of software also lowers the cost of development. Typically, more effort is put into the object-oriented analysis and design, which lowers the overall cost of development\n",
    "\n",
    "\n",
    "*\t***Easier to maintain: -***  \n",
    "It makes software easier to maintain. Since the design is modular, part of the system can be updated in case of issues without a need to make large-scale changes\n",
    "\n",
    "\n",
    "*\t***Faster development: -*** \n",
    "Reuse also enables faster development. Object-oriented programming languages come with rich libraries of objects, and code developed during projects is also reusable in future projects.\n",
    "\n",
    "\n",
    "*\t***Easily adapted and modified by the programmer: -*** \n",
    "It provides a good framework for code libraries where the supplied software components can be easily adapted and modified by the programmer. This is particularly useful for developing graphical user interfaces.\n",
    "\n",
    "\n",
    "*\t***Better Productivity: -***  \n",
    "Better Productivity as OOP techniques enforce rules on a programmer that, in the long run, help her get more work done; finished programs work better, have more features and are easier to read and maintain. \n",
    "\n",
    "\n",
    "*\t***Higher quality software: -***  \n",
    "Faster development of software and lower cost of development allows more time and resources to be used in the verification of the software. Although quality is dependent upon the experience of the teams, object oriented programming tends to result in higher-quality software\n",
    "\n"
   ]
  },
  {
   "cell_type": "markdown",
   "metadata": {},
   "source": [
    "# Question No. 3\n",
    "\n",
    "The key differences between Method and Function in Python are given below: -\n",
    "\n",
    "* ***Python Method***\n",
    "\n",
    "\n",
    "1.\tMethod is called by its name, but it is associated to an object (dependent).\n",
    "2.\tA method is implicitly passed the object on which it is invoked.\n",
    "3.\tIt may or may not return any data.\n",
    "4.\tA method can operate on the data (instance variables) that is contained by the corresponding class\n",
    "\n",
    "* ***Functions***\n",
    "\n",
    "\n",
    "1.\tFunction is block of code that is also called by its name. (independent)\n",
    "2.\tThe function can have different parameters or may not have any at all. If any data (parameters) are passed, they are passed explicitly.\n",
    "3.\tIt may or may not return any data.\n",
    "4.\tFunction does not deal with Class and its instance concept.\n",
    "\n",
    "* ***Difference between method and function***\n",
    "\n",
    "\n",
    "1.\tSimply, function and method both look similar as they perform in almost similar way, but the key difference is the concept of ‘Class and its Object‘.\n",
    "2.\tFunctions can be called only by its name, as it is defined independently. But methods can’t be called by its name only, we need to invoke the class by a reference of that class in which it is defined, i.e. method is defined within a class and hence they are dependent on that class.\n"
   ]
  },
  {
   "cell_type": "markdown",
   "metadata": {},
   "source": [
    "# Question No. 4\n",
    "\n",
    "## Definition of Terminologies: -\n",
    "\n",
    "\n",
    "1) ***Class: -***\n",
    "Class is a template or blue print about the capability of what an object can do or a class is a blueprint from which you can create the instance, i.e., objects. It is used to bind data as well as methods together as a single unit. Classes have logical existence. And doesn't take any memory spaces when a programmer creates one. The class has to be declared only once. Every class contains attributes and behaviors.\n",
    "\n",
    "\n",
    "2) ***Object: -***\n",
    "An object (instance) is an instantiation of a class. When class is defined, only the description for the object is defined. Therefore, no memory or storage is allocated or an object is the instance of the class, which helps programmers to use variables and methods from inside the class. Its acts as a variable of the class. Objects have a physical existence and takes memory when a programmer creates one. An Objects can be declared several times depending on the requirement.\n",
    "\n",
    "\n",
    "3) ***Attribute: -***\n",
    "Attributes are the characteristics of the class that help to distinguish it from other classes. Attributes are called properties and properties are presented with different data types. For example a person's attributes, include their age, name, and height\n",
    "\n",
    "\n",
    "4) ***Behavior: -***\n",
    "Behaviors are the tasks that an object performs. Behavior are called functions. Behaviors are described using functions. For example a person’s behaviors include the fact that a person can speak, run, walk, and eat.\n"
   ]
  },
  {
   "cell_type": "code",
   "execution_count": 1,
   "metadata": {},
   "outputs": [
    {
     "name": "stdout",
     "output_type": "stream",
     "text": [
      "C200\n",
      "mercedez\n",
      "2019\n",
      "black\n",
      "Rs. 15 million\n",
      "black updated new color\n",
      "Rs. 15 million updated new price\n",
      "2019 updated new model\n"
     ]
    }
   ],
   "source": [
    "class Car():\n",
    "    def __init__(self,name,make,model,color,price):\n",
    "        self.name = name\n",
    "        self.make = make\n",
    "        self.model = model\n",
    "        self.color = color\n",
    "        self.price = price\n",
    "        \n",
    "    def updatecolor(self,color):\n",
    "        self.color = \"red\"\n",
    "        \n",
    "    def updateprice(self,price):\n",
    "        self.price = \"Rs. 17 million\"\n",
    "        \n",
    "    def updatemodel(self,model):\n",
    "        self.model = 2002\n",
    "        \n",
    "                \n",
    "car = Car(\"C200\",\"mercedez\",2019,\"black\",\"Rs. 15 million\")\n",
    "\n",
    "\n",
    "print(car.name) \n",
    "print(car.make)\n",
    "print(car.model)\n",
    "print(car.color)\n",
    "print(car.price)\n",
    "\n",
    "print(car.color, \"updated new color\")\n",
    "print(car.price, \"updated new price\")\n",
    "print(car.model, \"updated new model\")"
   ]
  },
  {
   "cell_type": "markdown",
   "metadata": {},
   "source": [
    "\n"
   ]
  }
 ],
 "metadata": {
  "kernelspec": {
   "display_name": "Python 3",
   "language": "python",
   "name": "python3"
  },
  "language_info": {
   "codemirror_mode": {
    "name": "ipython",
    "version": 3
   },
   "file_extension": ".py",
   "mimetype": "text/x-python",
   "name": "python",
   "nbconvert_exporter": "python",
   "pygments_lexer": "ipython3",
   "version": "3.7.4"
  }
 },
 "nbformat": 4,
 "nbformat_minor": 2
}
