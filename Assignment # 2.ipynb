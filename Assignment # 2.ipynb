{
 "cells": [
  {
   "cell_type": "code",
   "execution_count": 8,
   "metadata": {},
   "outputs": [
    {
     "name": "stdout",
     "output_type": "stream",
     "text": [
      "Enter marks of the first subject: 85\n",
      "Enter marks of the second subject: 90\n",
      "Enter marks of the third subject: 75\n",
      "Enter marks of the fourth subject: 87\n",
      "Enter marks of the fifth subject: 78\n",
      "Grade: B\n"
     ]
    }
   ],
   "source": [
    "sub1=int(input(\"Enter marks of the first subject: \"))\n",
    "sub2=int(input(\"Enter marks of the second subject: \"))\n",
    "sub3=int(input(\"Enter marks of the third subject: \"))\n",
    "sub4=int(input(\"Enter marks of the fourth subject: \"))\n",
    "sub5=int(input(\"Enter marks of the fifth subject: \"))\n",
    "avg=(sub1+sub2+sub3+sub4+sub4)/5\n",
    "if(avg>=90):\n",
    "    print(\"Grade: A\")\n",
    "elif(avg >=80 and avg<90):\n",
    "    print(\"Grade: B\")\n",
    "elif(avg >=70 and avg<80):\n",
    "    print(\"Grade: C\")\n",
    "elif(avg >=60 and avg<70):\n",
    "    print(\"Grade: D\")\n",
    "else:\n",
    "    print(\"Grade: F\")\n"
   ]
  },
  {
   "cell_type": "code",
   "execution_count": 3,
   "metadata": {},
   "outputs": [
    {
     "name": "stdout",
     "output_type": "stream",
     "text": [
      "Enter a number: 3\n",
      "3 is Odd\n"
     ]
    }
   ],
   "source": [
    "number = int(input(\"Enter a number: \"))\n",
    "if (number % 2) == 0:\n",
    "   print(\"{0} is Even\".format(number))\n",
    "else:\n",
    "   print(\"{0} is Odd\".format(number))"
   ]
  },
  {
   "cell_type": "code",
   "execution_count": 4,
   "metadata": {},
   "outputs": [
    {
     "name": "stdout",
     "output_type": "stream",
     "text": [
      "Lenght of the list =  9\n"
     ]
    }
   ],
   "source": [
    "length_of_the_list = [2, 6, 8, 'a','b','c', 20, 25, 90]\n",
    "print(\"Lenght of the list = \", len(length_of_the_list))"
   ]
  },
  {
   "cell_type": "code",
   "execution_count": 5,
   "metadata": {},
   "outputs": [
    {
     "name": "stdout",
     "output_type": "stream",
     "text": [
      "How many numeric items: 5\n",
      "Enter numeric number 1\n",
      "Enter numeric number 2\n",
      "Enter numeric number 3\n",
      "Enter numeric number 4\n",
      "Enter numeric number 5\n",
      "Sum of all the numeric item is : 15\n"
     ]
    }
   ],
   "source": [
    "lst = []\n",
    "numeric_item = int(input('How many numeric items: '))\n",
    "for n in range(numeric_item):\n",
    "    numbers = int(input('Enter numeric number '))\n",
    "    lst.append(numbers)\n",
    "print(\"Sum of all the numeric item is :\", sum(lst))"
   ]
  },
  {
   "cell_type": "code",
   "execution_count": 6,
   "metadata": {},
   "outputs": [
    {
     "name": "stdout",
     "output_type": "stream",
     "text": [
      "How many numbers: 5\n",
      "Enter number 12\n",
      "Enter number 34\n",
      "Enter number 21\n",
      "Enter number 1\n",
      "Enter number 5\n",
      "Lasrgest number from a numeric list is : 34\n"
     ]
    }
   ],
   "source": [
    "lst = []\n",
    "numeric_number = int(input('How many numbers: '))\n",
    "for n in range(numeric_number):\n",
    "    numbers = int(input('Enter number '))\n",
    "    lst.append(numbers)\n",
    "print(\"Lasrgest number from a numeric list is :\", max(lst), )"
   ]
  },
  {
   "cell_type": "code",
   "execution_count": 7,
   "metadata": {},
   "outputs": [
    {
     "name": "stdout",
     "output_type": "stream",
     "text": [
      "[1, 1, 2, 3]\n"
     ]
    }
   ],
   "source": [
    "a = [1, 1, 2, 3, 5, 8, 13, 21, 34, 55, 89]\n",
    "new_list = []\n",
    "for x in a:\n",
    "    if x<5:\n",
    "        new_list.append(x)\n",
    "print(new_list)"
   ]
  },
  {
   "cell_type": "code",
   "execution_count": null,
   "metadata": {},
   "outputs": [],
   "source": []
  }
 ],
 "metadata": {
  "kernelspec": {
   "display_name": "Python 3",
   "language": "python",
   "name": "python3"
  },
  "language_info": {
   "codemirror_mode": {
    "name": "ipython",
    "version": 3
   },
   "file_extension": ".py",
   "mimetype": "text/x-python",
   "name": "python",
   "nbconvert_exporter": "python",
   "pygments_lexer": "ipython3",
   "version": "3.7.4"
  }
 },
 "nbformat": 4,
 "nbformat_minor": 2
}
